{
 "cells": [
  {
   "cell_type": "code",
   "execution_count": 38,
   "id": "faf1e51a",
   "metadata": {},
   "outputs": [],
   "source": [
    "import requests\n",
    "import pandas as pd\n",
    "from scrapy.http import HtmlResponse"
   ]
  },
  {
   "cell_type": "code",
   "execution_count": 4,
   "id": "329eefd6",
   "metadata": {},
   "outputs": [
    {
     "name": "stderr",
     "output_type": "stream",
     "text": [
      "/Library/Frameworks/Python.framework/Versions/3.8/lib/python3.8/site-packages/urllib3/connectionpool.py:1064: InsecureRequestWarning: Unverified HTTPS request is being made to host 'rera.karnataka.gov.in'. Adding certificate verification is strongly advised. See: https://urllib3.readthedocs.io/en/1.26.x/advanced-usage.html#ssl-warnings\n",
      "  warnings.warn(\n"
     ]
    },
    {
     "data": {
      "text/plain": [
       "<Response [200]>"
      ]
     },
     "execution_count": 4,
     "metadata": {},
     "output_type": "execute_result"
    }
   ],
   "source": [
    "cookies = {\n",
    "    'JSESSIONID': 'F474E2915CE022928A5A77CCA69C5CC8',\n",
    "}\n",
    "\n",
    "headers = {\n",
    "    'Accept': '*/*',\n",
    "    'Accept-Language': 'en-US,en;q=0.9,hi;q=0.8',\n",
    "    'Connection': 'keep-alive',\n",
    "    'Content-Type': 'application/x-www-form-urlencoded; charset=UTF-8',\n",
    "    'Origin': 'https://rera.karnataka.gov.in',\n",
    "    'Referer': 'https://rera.karnataka.gov.in/projectViewDetails',\n",
    "    'Sec-Fetch-Dest': 'empty',\n",
    "    'Sec-Fetch-Mode': 'cors',\n",
    "    'Sec-Fetch-Site': 'same-origin',\n",
    "    'User-Agent': 'Mozilla/5.0 (Macintosh; Intel Mac OS X 10_15_7) AppleWebKit/537.36 (KHTML, like Gecko) Chrome/132.0.0.0 Safari/537.36',\n",
    "    'X-Requested-With': 'XMLHttpRequest',\n",
    "    'sec-ch-ua': '\"Not A(Brand\";v=\"8\", \"Chromium\";v=\"132\", \"Google Chrome\";v=\"132\"',\n",
    "    'sec-ch-ua-mobile': '?0',\n",
    "    'sec-ch-ua-platform': '\"macOS\"',\n",
    "}\n",
    "\n",
    "data = {\n",
    "    'action': '12892',\n",
    "}\n",
    "\n",
    "response = requests.post(\n",
    "    'https://rera.karnataka.gov.in/projectDetails', cookies=cookies, headers=headers, data=data, verify=False)\n",
    "response"
   ]
  },
  {
   "cell_type": "code",
   "execution_count": 5,
   "id": "823440c6",
   "metadata": {},
   "outputs": [],
   "source": [
    "scrapy_response = HtmlResponse(url=response.url, body=response.text, encoding=\"utf-8\")"
   ]
  },
  {
   "cell_type": "markdown",
   "id": "03f5d65a",
   "metadata": {},
   "source": [
    "## Tower scraping"
   ]
  },
  {
   "cell_type": "code",
   "execution_count": 16,
   "id": "e8eef04e",
   "metadata": {},
   "outputs": [],
   "source": [
    "final_selector = scrapy_response.xpath('.//h1[contains(text(), \"Development\") and span[contains(text(), \"Bifurcation\")]]/..')[0]"
   ]
  },
  {
   "cell_type": "code",
   "execution_count": 22,
   "id": "ac831864",
   "metadata": {
    "scrolled": true
   },
   "outputs": [
    {
     "data": {
      "text/plain": [
       "6"
      ]
     },
     "execution_count": 22,
     "metadata": {},
     "output_type": "execute_result"
    }
   ],
   "source": [
    "towers = final_selector.xpath('./table/following-sibling::div[not(@class)]')\n",
    "len(towers)"
   ]
  },
  {
   "cell_type": "code",
   "execution_count": 30,
   "id": "0664c4ae",
   "metadata": {},
   "outputs": [],
   "source": [
    "tr_eles = towers[0].xpath('./table/tr')"
   ]
  },
  {
   "cell_type": "code",
   "execution_count": 31,
   "id": "f30b36dc",
   "metadata": {},
   "outputs": [
    {
     "data": {
      "text/plain": [
       "['Tower Name', '1', 'Type', 'Residential']"
      ]
     },
     "execution_count": 31,
     "metadata": {},
     "output_type": "execute_result"
    }
   ],
   "source": [
    "column_names = tr_eles[0].xpath('./td/text()').extract()\n",
    "column_names"
   ]
  },
  {
   "cell_type": "code",
   "execution_count": 50,
   "id": "90686e44",
   "metadata": {},
   "outputs": [
    {
     "name": "stdout",
     "output_type": "stream",
     "text": [
      "this is header of a new table\n"
     ]
    },
    {
     "data": {
      "text/plain": [
       "4"
      ]
     },
     "execution_count": 50,
     "metadata": {},
     "output_type": "execute_result"
    }
   ],
   "source": [
    "table_data = []\n",
    "for tr_ele in tr_eles[1:]:\n",
    "    if len(tr_ele.xpath('./td')) == 0 and len(tr_ele.xpath('./th')) > 0:\n",
    "        print(\"this is header of a new table\")\n",
    "        break\n",
    "    row = {}\n",
    "    for column_name in column_names:\n",
    "        row[column_name] = tr_ele.xpath(f'./td[{column_names.index(column_name) + 1}]/text()').extract_first()\n",
    "    table_data.append(row)\n",
    "len(table_data)"
   ]
  },
  {
   "cell_type": "code",
   "execution_count": 41,
   "id": "5b00c8ae",
   "metadata": {},
   "outputs": [
    {
     "data": {
      "text/html": [
       "<div>\n",
       "<style scoped>\n",
       "    .dataframe tbody tr th:only-of-type {\n",
       "        vertical-align: middle;\n",
       "    }\n",
       "\n",
       "    .dataframe tbody tr th {\n",
       "        vertical-align: top;\n",
       "    }\n",
       "\n",
       "    .dataframe thead th {\n",
       "        text-align: right;\n",
       "    }\n",
       "</style>\n",
       "<table border=\"1\" class=\"dataframe\">\n",
       "  <thead>\n",
       "    <tr style=\"text-align: right;\">\n",
       "      <th></th>\n",
       "      <th>Tower Name</th>\n",
       "      <th>1</th>\n",
       "      <th>Type</th>\n",
       "      <th>Residential</th>\n",
       "    </tr>\n",
       "  </thead>\n",
       "  <tbody>\n",
       "    <tr>\n",
       "      <th>0</th>\n",
       "      <td>No. of Floors</td>\n",
       "      <td>32</td>\n",
       "      <td>Total No. of Units</td>\n",
       "      <td>130</td>\n",
       "    </tr>\n",
       "    <tr>\n",
       "      <th>1</th>\n",
       "      <td>No. of Stilts</td>\n",
       "      <td>2</td>\n",
       "      <td>No. of slab of super structure</td>\n",
       "      <td>34</td>\n",
       "    </tr>\n",
       "    <tr>\n",
       "      <th>2</th>\n",
       "      <td>No. of Basement</td>\n",
       "      <td>2</td>\n",
       "      <td>Total No. of Parking</td>\n",
       "      <td>130</td>\n",
       "    </tr>\n",
       "    <tr>\n",
       "      <th>3</th>\n",
       "      <td>Height of the Tower (In Meters)</td>\n",
       "      <td>101.05</td>\n",
       "      <td>None</td>\n",
       "      <td>None</td>\n",
       "    </tr>\n",
       "  </tbody>\n",
       "</table>\n",
       "</div>"
      ],
      "text/plain": [
       "                        Tower Name       1                            Type  \\\n",
       "0                    No. of Floors      32              Total No. of Units   \n",
       "1                    No. of Stilts       2  No. of slab of super structure   \n",
       "2                  No. of Basement       2            Total No. of Parking   \n",
       "3  Height of the Tower (In Meters)  101.05                            None   \n",
       "\n",
       "  Residential  \n",
       "0         130  \n",
       "1          34  \n",
       "2         130  \n",
       "3        None  "
      ]
     },
     "execution_count": 41,
     "metadata": {},
     "output_type": "execute_result"
    }
   ],
   "source": [
    "pd.DataFrame(table_data)"
   ]
  },
  {
   "cell_type": "code",
   "execution_count": 54,
   "id": "b78b0b8c",
   "metadata": {},
   "outputs": [],
   "source": [
    "floor_plan = towers[0].xpath('./table/tbody[1]')[0]"
   ]
  },
  {
   "cell_type": "code",
   "execution_count": 52,
   "id": "7b550d59",
   "metadata": {},
   "outputs": [
    {
     "data": {
      "text/plain": [
       "['Floor No', 'No of Units']"
      ]
     },
     "execution_count": 52,
     "metadata": {},
     "output_type": "execute_result"
    }
   ],
   "source": [
    "column_names = tr_eles[-1].xpath('./th/text()').extract()\n",
    "column_names"
   ]
  },
  {
   "cell_type": "code",
   "execution_count": 64,
   "id": "ca8d63b3",
   "metadata": {},
   "outputs": [
    {
     "name": "stdout",
     "output_type": "stream",
     "text": [
      "34\n",
      "this is header of a new table\n"
     ]
    },
    {
     "data": {
      "text/plain": [
       "33"
      ]
     },
     "execution_count": 64,
     "metadata": {},
     "output_type": "execute_result"
    }
   ],
   "source": [
    "tr_eles = floor_plan.xpath('.//tr')\n",
    "print(len(tr_eles))\n",
    "\n",
    "table_data = []\n",
    "for tr_ele in tr_eles[:]:\n",
    "    if len(tr_ele.xpath('./td')) == 0 and len(tr_ele.xpath('./th')) > 0:\n",
    "        print(\"this is header of a new table\")\n",
    "        break\n",
    "    row = {}\n",
    "    for column_name in column_names:\n",
    "        row[column_name] = tr_ele.xpath(f'./td[{column_names.index(column_name) + 1}]/text()').extract_first()\n",
    "    table_data.append(row)\n",
    "len(table_data)"
   ]
  },
  {
   "cell_type": "code",
   "execution_count": 65,
   "id": "66e4d003",
   "metadata": {},
   "outputs": [
    {
     "data": {
      "text/html": [
       "<div>\n",
       "<style scoped>\n",
       "    .dataframe tbody tr th:only-of-type {\n",
       "        vertical-align: middle;\n",
       "    }\n",
       "\n",
       "    .dataframe tbody tr th {\n",
       "        vertical-align: top;\n",
       "    }\n",
       "\n",
       "    .dataframe thead th {\n",
       "        text-align: right;\n",
       "    }\n",
       "</style>\n",
       "<table border=\"1\" class=\"dataframe\">\n",
       "  <thead>\n",
       "    <tr style=\"text-align: right;\">\n",
       "      <th></th>\n",
       "      <th>Floor No</th>\n",
       "      <th>No of Units</th>\n",
       "    </tr>\n",
       "  </thead>\n",
       "  <tbody>\n",
       "    <tr>\n",
       "      <th>0</th>\n",
       "      <td>0</td>\n",
       "      <td>3</td>\n",
       "    </tr>\n",
       "    <tr>\n",
       "      <th>1</th>\n",
       "      <td>1</td>\n",
       "      <td>3</td>\n",
       "    </tr>\n",
       "    <tr>\n",
       "      <th>2</th>\n",
       "      <td>2</td>\n",
       "      <td>4</td>\n",
       "    </tr>\n",
       "    <tr>\n",
       "      <th>3</th>\n",
       "      <td>3</td>\n",
       "      <td>4</td>\n",
       "    </tr>\n",
       "    <tr>\n",
       "      <th>4</th>\n",
       "      <td>4</td>\n",
       "      <td>4</td>\n",
       "    </tr>\n",
       "  </tbody>\n",
       "</table>\n",
       "</div>"
      ],
      "text/plain": [
       "  Floor No No of Units\n",
       "0        0           3\n",
       "1        1           3\n",
       "2        2           4\n",
       "3        3           4\n",
       "4        4           4"
      ]
     },
     "execution_count": 65,
     "metadata": {},
     "output_type": "execute_result"
    }
   ],
   "source": [
    "pd.DataFrame(table_data).head()"
   ]
  },
  {
   "cell_type": "code",
   "execution_count": 66,
   "id": "2ae2e999",
   "metadata": {},
   "outputs": [],
   "source": [
    "floor_details = towers[0].xpath('./table/tbody[2]')[0]"
   ]
  },
  {
   "cell_type": "code",
   "execution_count": 67,
   "id": "b4b16d55",
   "metadata": {},
   "outputs": [
    {
     "data": {
      "text/plain": [
       "['Sl No',\n",
       " 'Floor No',\n",
       " 'Unit No',\n",
       " 'Unit Type',\n",
       " 'Carpet Area',\n",
       " 'Exclusive Common Area Allottee',\n",
       " 'Common Area Alloted To Association',\n",
       " 'Undivided Share',\n",
       " 'No of parking lots']"
      ]
     },
     "execution_count": 67,
     "metadata": {},
     "output_type": "execute_result"
    }
   ],
   "source": [
    "column_names = tr_eles[-1].xpath('./th/text()').extract()\n",
    "column_names"
   ]
  },
  {
   "cell_type": "code",
   "execution_count": 68,
   "id": "fd6707f1",
   "metadata": {},
   "outputs": [
    {
     "name": "stdout",
     "output_type": "stream",
     "text": [
      "130\n"
     ]
    },
    {
     "data": {
      "text/plain": [
       "130"
      ]
     },
     "execution_count": 68,
     "metadata": {},
     "output_type": "execute_result"
    }
   ],
   "source": [
    "tr_eles = floor_details.xpath('.//tr')\n",
    "print(len(tr_eles))\n",
    "\n",
    "table_data = []\n",
    "for tr_ele in tr_eles[:]:\n",
    "    if len(tr_ele.xpath('./td')) == 0 and len(tr_ele.xpath('./th')) > 0:\n",
    "        print(\"this is header of a new table\")\n",
    "        break\n",
    "    row = {}\n",
    "    for column_name in column_names:\n",
    "        row[column_name] = tr_ele.xpath(f'./td[{column_names.index(column_name) + 1}]/text()').extract_first()\n",
    "    table_data.append(row)\n",
    "len(table_data)"
   ]
  },
  {
   "cell_type": "code",
   "execution_count": 70,
   "id": "0d0491da",
   "metadata": {},
   "outputs": [
    {
     "data": {
      "text/html": [
       "<div>\n",
       "<style scoped>\n",
       "    .dataframe tbody tr th:only-of-type {\n",
       "        vertical-align: middle;\n",
       "    }\n",
       "\n",
       "    .dataframe tbody tr th {\n",
       "        vertical-align: top;\n",
       "    }\n",
       "\n",
       "    .dataframe thead th {\n",
       "        text-align: right;\n",
       "    }\n",
       "</style>\n",
       "<table border=\"1\" class=\"dataframe\">\n",
       "  <thead>\n",
       "    <tr style=\"text-align: right;\">\n",
       "      <th></th>\n",
       "      <th>Sl No</th>\n",
       "      <th>Floor No</th>\n",
       "      <th>Unit No</th>\n",
       "      <th>Unit Type</th>\n",
       "      <th>Carpet Area</th>\n",
       "      <th>Exclusive Common Area Allottee</th>\n",
       "      <th>Common Area Alloted To Association</th>\n",
       "      <th>Undivided Share</th>\n",
       "      <th>No of parking lots</th>\n",
       "    </tr>\n",
       "  </thead>\n",
       "  <tbody>\n",
       "    <tr>\n",
       "      <th>0</th>\n",
       "      <td>1</td>\n",
       "      <td>0</td>\n",
       "      <td>1001</td>\n",
       "      <td>4 BHK</td>\n",
       "      <td>149.13</td>\n",
       "      <td>8.02</td>\n",
       "      <td>43.09</td>\n",
       "      <td>53.51</td>\n",
       "      <td>1</td>\n",
       "    </tr>\n",
       "    <tr>\n",
       "      <th>1</th>\n",
       "      <td>2</td>\n",
       "      <td>0</td>\n",
       "      <td>1002</td>\n",
       "      <td>4 BHK</td>\n",
       "      <td>149.13</td>\n",
       "      <td>8.02</td>\n",
       "      <td>41.48</td>\n",
       "      <td>51.57</td>\n",
       "      <td>1</td>\n",
       "    </tr>\n",
       "    <tr>\n",
       "      <th>2</th>\n",
       "      <td>3</td>\n",
       "      <td>0</td>\n",
       "      <td>1003</td>\n",
       "      <td>3.5 BHK</td>\n",
       "      <td>128.75</td>\n",
       "      <td>8.02</td>\n",
       "      <td>34.42</td>\n",
       "      <td>43.10</td>\n",
       "      <td>1</td>\n",
       "    </tr>\n",
       "    <tr>\n",
       "      <th>3</th>\n",
       "      <td>4</td>\n",
       "      <td>1</td>\n",
       "      <td>1011</td>\n",
       "      <td>4 BHK</td>\n",
       "      <td>149.13</td>\n",
       "      <td>8.02</td>\n",
       "      <td>43.09</td>\n",
       "      <td>53.51</td>\n",
       "      <td>1</td>\n",
       "    </tr>\n",
       "    <tr>\n",
       "      <th>4</th>\n",
       "      <td>5</td>\n",
       "      <td>1</td>\n",
       "      <td>1012</td>\n",
       "      <td>4 BHK</td>\n",
       "      <td>149.13</td>\n",
       "      <td>8.02</td>\n",
       "      <td>41.48</td>\n",
       "      <td>51.57</td>\n",
       "      <td>1</td>\n",
       "    </tr>\n",
       "  </tbody>\n",
       "</table>\n",
       "</div>"
      ],
      "text/plain": [
       "  Sl No Floor No Unit No Unit Type Carpet Area Exclusive Common Area Allottee  \\\n",
       "0     1        0    1001     4 BHK      149.13                           8.02   \n",
       "1     2        0    1002     4 BHK      149.13                           8.02   \n",
       "2     3        0    1003   3.5 BHK      128.75                           8.02   \n",
       "3     4        1    1011     4 BHK      149.13                           8.02   \n",
       "4     5        1    1012     4 BHK      149.13                           8.02   \n",
       "\n",
       "  Common Area Alloted To Association Undivided Share No of parking lots  \n",
       "0                              43.09           53.51                  1  \n",
       "1                              41.48           51.57                  1  \n",
       "2                              34.42           43.10                  1  \n",
       "3                              43.09           53.51                  1  \n",
       "4                              41.48           51.57                  1  "
      ]
     },
     "execution_count": 70,
     "metadata": {},
     "output_type": "execute_result"
    }
   ],
   "source": [
    "pd.DataFrame(table_data).head()"
   ]
  },
  {
   "cell_type": "code",
   "execution_count": null,
   "id": "ce20b96b",
   "metadata": {},
   "outputs": [],
   "source": []
  }
 ],
 "metadata": {
  "kernelspec": {
   "display_name": "Python 3 (ipykernel)",
   "language": "python",
   "name": "python3"
  },
  "language_info": {
   "codemirror_mode": {
    "name": "ipython",
    "version": 3
   },
   "file_extension": ".py",
   "mimetype": "text/x-python",
   "name": "python",
   "nbconvert_exporter": "python",
   "pygments_lexer": "ipython3",
   "version": "3.8.10"
  }
 },
 "nbformat": 4,
 "nbformat_minor": 5
}
